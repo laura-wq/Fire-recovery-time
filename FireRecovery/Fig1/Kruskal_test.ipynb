{
 "cells": [
  {
   "cell_type": "code",
   "execution_count": null,
   "id": "586d00af",
   "metadata": {},
   "outputs": [],
   "source": [
    "import pandas as pd\n",
    "from scipy.stats import kruskal\n",
    "\n",
    "# Load the Excel file\n",
    "file_path = 'Glomap_dNBR.xlsx'\n",
    "xls = pd.ExcelFile(file_path)\n",
    "\n",
    "# Load the 'be' and 'af' sheets\n",
    "be_data = pd.read_excel(xls, sheet_name='be')\n",
    "af_data = pd.read_excel(xls, sheet_name='af')\n",
    "\n",
    "# Extract the 'dNBR' columns from both datasets\n",
    "be_dnbr = be_data['dNBR']\n",
    "af_dnbr = af_data['dNBR']\n",
    "\n",
    "# Perform the Kruskal-Wallis test\n",
    "kruskal_test_result = kruskal(be_dnbr, af_dnbr)\n",
    "\n",
    "# Output the p-value\n",
    "print(f\"P-value: {kruskal_test_result.pvalue}\")\n"
   ]
  }
 ],
 "metadata": {
  "kernelspec": {
   "display_name": "Python 3 (ipykernel)",
   "language": "python",
   "name": "python3"
  },
  "language_info": {
   "codemirror_mode": {
    "name": "ipython",
    "version": 3
   },
   "file_extension": ".py",
   "mimetype": "text/x-python",
   "name": "python",
   "nbconvert_exporter": "python",
   "pygments_lexer": "ipython3",
   "version": "3.9.13"
  }
 },
 "nbformat": 4,
 "nbformat_minor": 5
}
