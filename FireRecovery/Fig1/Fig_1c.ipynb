{
 "cells": [
  {
   "cell_type": "code",
   "execution_count": null,
   "id": "04c03fd7",
   "metadata": {},
   "outputs": [],
   "source": [
    "import pandas as pd\n",
    "import matplotlib.pyplot as plt\n",
    "import seaborn as sns\n",
    "from matplotlib import rcParams\n",
    "\n",
    "\n",
    "rcParams['font.family'] = 'Arial'\n",
    "\n",
    "\n",
    "file = 'Glomap_dNBR.xlsx'\n",
    "\n",
    "\n",
    "sheets = pd.read_excel(file, sheet_name=['be','af'])\n",
    "\n",
    "\n",
    "dnbr_data = [sheets[sheet]['dNBR'] for sheet in sheets.keys()]\n",
    "\n",
    "\n",
    "combined_data = []\n",
    "sources = ['Pre-2010', 'Post-2010']\n",
    "for data, source in zip(dnbr_data, sources):\n",
    "    combined_data.extend([(val, source) for val in data])\n",
    "\n",
    "\n",
    "df = pd.DataFrame(combined_data, columns=['dNBR', 'Source'])\n",
    "\n",
    "\n",
    "plt.figure(figsize=(5, 4))\n",
    "ax = sns.boxplot(data=df, x='Source', y='dNBR', palette=[\"#4878D0\", \"#6ACC64\"], showfliers=False, linewidth=1.5, width=0.4)\n",
    "\n",
    "\n",
    "plt.xticks(fontsize=20)  \n",
    "plt.yticks(fontsize=20)  \n",
    "\n",
    "\n",
    "plt.xlabel('Period', fontsize=22, weight='semibold')\n",
    "plt.ylabel('dNBR', fontsize=22, weight='semibold')\n",
    "\n",
    "\n",
    "\n",
    "\n",
    "\n",
    "\n",
    "# plt.show()\n",
    "\n",
    "\n",
    "plt.rcParams['savefig.dpi'] = 600\n",
    "plt.savefig('time.jpg', bbox_inches='tight')"
   ]
  }
 ],
 "metadata": {
  "kernelspec": {
   "display_name": "Python 3 (ipykernel)",
   "language": "python",
   "name": "python3"
  },
  "language_info": {
   "codemirror_mode": {
    "name": "ipython",
    "version": 3
   },
   "file_extension": ".py",
   "mimetype": "text/x-python",
   "name": "python",
   "nbconvert_exporter": "python",
   "pygments_lexer": "ipython3",
   "version": "3.9.13"
  }
 },
 "nbformat": 4,
 "nbformat_minor": 5
}
